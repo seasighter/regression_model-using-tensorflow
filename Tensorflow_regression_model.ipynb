{
  "nbformat": 4,
  "nbformat_minor": 0,
  "metadata": {
    "colab": {
      "provenance": [],
      "authorship_tag": "ABX9TyM8uikdOHHPvy5k0Wv6DD5l",
      "include_colab_link": true
    },
    "kernelspec": {
      "name": "python3",
      "display_name": "Python 3"
    },
    "language_info": {
      "name": "python"
    }
  },
  "cells": [
    {
      "cell_type": "markdown",
      "metadata": {
        "id": "view-in-github",
        "colab_type": "text"
      },
      "source": [
        "<a href=\"https://colab.research.google.com/github/seasighter/regression_model-using-tensorflow/blob/main/Tensorflow_regression_model.ipynb\" target=\"_parent\"><img src=\"https://colab.research.google.com/assets/colab-badge.svg\" alt=\"Open In Colab\"/></a>"
      ]
    },
    {
      "cell_type": "code",
      "execution_count": null,
      "metadata": {
        "id": "fYcCJOJGDDG_"
      },
      "outputs": [],
      "source": [
        "# regression model"
      ]
    },
    {
      "cell_type": "code",
      "source": [
        "import tensorflow as tf"
      ],
      "metadata": {
        "id": "GSMMXQRHE5bZ"
      },
      "execution_count": null,
      "outputs": []
    },
    {
      "cell_type": "code",
      "source": [
        "import pandas as pd\n",
        "import matplotlib.pyplot as plt\n",
        "import numpy as np\n"
      ],
      "metadata": {
        "id": "gBRl2ztYJClk"
      },
      "execution_count": null,
      "outputs": []
    },
    {
      "cell_type": "code",
      "source": [
        "#get data\n",
        "!wget https://raw.githubusercontent.com/lazyprogrammer/machine_learning_examples/master/tf2.0/moore.csv"
      ],
      "metadata": {
        "colab": {
          "base_uri": "https://localhost:8080/"
        },
        "id": "ueXjSexJJPy-",
        "outputId": "f213a669-dbfd-4449-b0ba-2c4fb22fc743"
      },
      "execution_count": null,
      "outputs": [
        {
          "output_type": "stream",
          "name": "stdout",
          "text": [
            "--2023-12-28 06:42:41--  https://raw.githubusercontent.com/lazyprogrammer/machine_learning_examples/master/tf2.0/moore.csv\n",
            "Resolving raw.githubusercontent.com (raw.githubusercontent.com)... 185.199.108.133, 185.199.109.133, 185.199.110.133, ...\n",
            "Connecting to raw.githubusercontent.com (raw.githubusercontent.com)|185.199.108.133|:443... connected.\n",
            "HTTP request sent, awaiting response... 200 OK\n",
            "Length: 2302 (2.2K) [text/plain]\n",
            "Saving to: ‘moore.csv’\n",
            "\n",
            "\rmoore.csv             0%[                    ]       0  --.-KB/s               \rmoore.csv           100%[===================>]   2.25K  --.-KB/s    in 0s      \n",
            "\n",
            "2023-12-28 06:42:42 (17.3 MB/s) - ‘moore.csv’ saved [2302/2302]\n",
            "\n"
          ]
        }
      ]
    },
    {
      "cell_type": "code",
      "source": [
        "# load data\n",
        "!head moore.csv\n",
        " # there is no header\n"
      ],
      "metadata": {
        "id": "JmaH0HEjKTFR",
        "colab": {
          "base_uri": "https://localhost:8080/"
        },
        "outputId": "c19aaadb-3215-4d8f-98ed-048251826a43"
      },
      "execution_count": null,
      "outputs": [
        {
          "output_type": "stream",
          "name": "stdout",
          "text": [
            "1971,2300\n",
            "1972,3500\n",
            "1973,2500\n",
            "1973,2500\n",
            "1974,4100\n",
            "1974,4500\n",
            "1974,8000\n",
            "1975,3510\n",
            "1976,5000\n",
            "1976,8500\n"
          ]
        }
      ]
    },
    {
      "cell_type": "code",
      "source": [
        "data =pd.read_csv(\"moore.csv\", header=None).to_numpy()\n",
        "data.shape"
      ],
      "metadata": {
        "colab": {
          "base_uri": "https://localhost:8080/"
        },
        "id": "J8hgR4upKtqR",
        "outputId": "f494ea4b-02cb-4d9b-8aad-8ad65bf47950"
      },
      "execution_count": null,
      "outputs": [
        {
          "output_type": "execute_result",
          "data": {
            "text/plain": [
              "(162, 2)"
            ]
          },
          "metadata": {},
          "execution_count": 14
        }
      ]
    },
    {
      "cell_type": "code",
      "source": [
        "data"
      ],
      "metadata": {
        "id": "zpgMtfpfKw_E",
        "colab": {
          "base_uri": "https://localhost:8080/"
        },
        "outputId": "8eb6f7c8-1c5b-4059-e33d-f86fd9bf0c06"
      },
      "execution_count": null,
      "outputs": [
        {
          "output_type": "execute_result",
          "data": {
            "text/plain": [
              "array([[       1971,        2300],\n",
              "       [       1972,        3500],\n",
              "       [       1973,        2500],\n",
              "       [       1973,        2500],\n",
              "       [       1974,        4100],\n",
              "       [       1974,        4500],\n",
              "       [       1974,        8000],\n",
              "       [       1975,        3510],\n",
              "       [       1976,        5000],\n",
              "       [       1976,        8500],\n",
              "       [       1976,        6500],\n",
              "       [       1978,        9000],\n",
              "       [       1978,       29000],\n",
              "       [       1979,       17500],\n",
              "       [       1979,       29000],\n",
              "       [       1979,       68000],\n",
              "       [       1981,       11500],\n",
              "       [       1982,       55000],\n",
              "       [       1982,      134000],\n",
              "       [       1983,       22000],\n",
              "       [       1984,       63000],\n",
              "       [       1984,      190000],\n",
              "       [       1985,      275000],\n",
              "       [       1985,       25000],\n",
              "       [       1985,       16000],\n",
              "       [       1986,      110000],\n",
              "       [       1986,      375000],\n",
              "       [       1986,       30000],\n",
              "       [       1987,      385000],\n",
              "       [       1987,      730000],\n",
              "       [       1987,      273000],\n",
              "       [       1987,      553000],\n",
              "       [       1988,      180000],\n",
              "       [       1988,      250000],\n",
              "       [       1989,      600000],\n",
              "       [       1989,     1000000],\n",
              "       [       1989,     1180235],\n",
              "       [       1989,      310000],\n",
              "       [       1990,     1200000],\n",
              "       [       1991,     1350000],\n",
              "       [       1991,       35000],\n",
              "       [       1992,      600000],\n",
              "       [       1992,      900000],\n",
              "       [       1993,     2800000],\n",
              "       [       1993,     3100000],\n",
              "       [       1994,      578977],\n",
              "       [       1994,     2500000],\n",
              "       [       1995,     2500000],\n",
              "       [       1999,      111000],\n",
              "       [       1995,     5500000],\n",
              "       [       1996,     4300000],\n",
              "       [       1997,    10000000],\n",
              "       [       1997,     7500000],\n",
              "       [       1997,     8800000],\n",
              "       [       1998,     7500000],\n",
              "       [       1999,     9500000],\n",
              "       [       1999,    13500000],\n",
              "       [       2000,    21000000],\n",
              "       [       2000,    21000000],\n",
              "       [       1999,    27400000],\n",
              "       [       1999,    21300000],\n",
              "       [       1999,    22000000],\n",
              "       [       2000,    42000000],\n",
              "       [       2001,   191000000],\n",
              "       [       2001,    45000000],\n",
              "       [       2002,    55000000],\n",
              "       [       2004,   112000000],\n",
              "       [       2004,   400000000],\n",
              "       [       2005,   169000000],\n",
              "       [       2006,   184000000],\n",
              "       [       2005,   228000000],\n",
              "       [       2006,   362000000],\n",
              "       [       2007,   540000000],\n",
              "       [       2008,    47000000],\n",
              "       [       2003,    54300000],\n",
              "       [       2003,   105900000],\n",
              "       [       2002,   220000000],\n",
              "       [       2005,   165000000],\n",
              "       [       2005,   250000000],\n",
              "       [       2006,   291000000],\n",
              "       [       2007,   169000000],\n",
              "       [       2003,   410000000],\n",
              "       [       2008,   600000000],\n",
              "       [       2009,   760000000],\n",
              "       [       2011,  1870000000],\n",
              "       [       2012,   432000000],\n",
              "       [       2007,   463000000],\n",
              "       [       2007,    26000000],\n",
              "       [       2008,   230000000],\n",
              "       [       2004,   592000000],\n",
              "       [       2007,   411000000],\n",
              "       [       2008,   731000000],\n",
              "       [       2008,   758000000],\n",
              "       [       2007,   789000000],\n",
              "       [       2009,   904000000],\n",
              "       [       2010,  1000000000],\n",
              "       [       2012,  2990000000],\n",
              "       [       2013,  1000000000],\n",
              "       [       2011,  1160000000],\n",
              "       [       2010,  1170000000],\n",
              "       [       2010,  1200000000],\n",
              "       [       2012,  1200000000],\n",
              "       [       2012,  1303000000],\n",
              "       [       2010,  1400000000],\n",
              "       [       2012,  1400000000],\n",
              "       [       2014,  1400000000],\n",
              "       [       2006,  1700000000],\n",
              "       [       2015,  1750000000],\n",
              "       [       2013,  1860000000],\n",
              "       [       2015,  1900000000],\n",
              "       [       2008,  1900000000],\n",
              "       [       2010,  2000000000],\n",
              "       [       2014,  2000000000],\n",
              "       [       2015,  2000000000],\n",
              "       [       2015,  3000000000],\n",
              "       [       2012,  2100000000],\n",
              "       [       2011,  2270000000],\n",
              "       [       2010,  2300000000],\n",
              "       [       2014,  2600000000],\n",
              "       [       2011,  2600000000],\n",
              "       [       2012,  2750000000],\n",
              "       [       2014,  3000000000],\n",
              "       [       2016,  3000000000],\n",
              "       [       2017,  5300000000],\n",
              "       [       2017,  5300000000],\n",
              "       [       2018,  8500000000],\n",
              "       [       2012,  3100000000],\n",
              "       [       2016,  3200000000],\n",
              "       [       2016,  3300000000],\n",
              "       [       2015,  3990000000],\n",
              "       [       2013,  4200000000],\n",
              "       [       2017,  4300000000],\n",
              "       [       2014,  4310000000],\n",
              "       [       2017,  4800000000],\n",
              "       [       2017,  4800000000],\n",
              "       [       2017,  4800000000],\n",
              "       [       2012,  5000000000],\n",
              "       [       2013,  5000000000],\n",
              "       [       2014,  5560000000],\n",
              "       [       2017,  6100000000],\n",
              "       [       2018,  6900000000],\n",
              "       [       2016,  4000000000],\n",
              "       [       2018,  6900000000],\n",
              "       [       2017,  5500000000],\n",
              "       [       2018,  5500000000],\n",
              "       [       2017,  7000000000],\n",
              "       [       2015,  7100000000],\n",
              "       [       2017,  8000000000],\n",
              "       [       2016,  7200000000],\n",
              "       [       2017,  8000000000],\n",
              "       [       2016,  8000000000],\n",
              "       [       2017,  9700000000],\n",
              "       [       2017,   250000000],\n",
              "       [       2015, 10000000000],\n",
              "       [       2017,  5450000000],\n",
              "       [       2018, 10000000000],\n",
              "       [       2017,  4300000000],\n",
              "       [       2017, 18000000000],\n",
              "       [       2017, 19200000000],\n",
              "       [       2018,  8876000000],\n",
              "       [       2018, 23600000000],\n",
              "       [       2018,  9000000000]])"
            ]
          },
          "metadata": {},
          "execution_count": 16
        }
      ]
    },
    {
      "cell_type": "code",
      "source": [
        "x=data[:,0]\n",
        "#x.ndim # here dimension in 1 which will throw error\n",
        "x=x.reshape(-1,1)   # reshaping the x to become the dimension ()\n",
        "x.ndim #Now the dimension becomes 2"
      ],
      "metadata": {
        "colab": {
          "base_uri": "https://localhost:8080/"
        },
        "id": "wyEXJWjDOknG",
        "outputId": "3eb95d04-0997-4b57-a99c-103446115539"
      },
      "execution_count": null,
      "outputs": [
        {
          "output_type": "execute_result",
          "data": {
            "text/plain": [
              "2"
            ]
          },
          "metadata": {},
          "execution_count": 24
        }
      ]
    },
    {
      "cell_type": "code",
      "source": [
        "y=data[:,1]\n"
      ],
      "metadata": {
        "id": "hy5kwN2rPCnJ"
      },
      "execution_count": null,
      "outputs": []
    },
    {
      "cell_type": "code",
      "source": [
        "plt.scatter(x,y);"
      ],
      "metadata": {
        "colab": {
          "base_uri": "https://localhost:8080/",
          "height": 445
        },
        "id": "TJA-HvWLSy5v",
        "outputId": "18d72ba3-0d18-4a23-a2b0-c44da38570d1"
      },
      "execution_count": null,
      "outputs": [
        {
          "output_type": "display_data",
          "data": {
            "text/plain": [
              "<Figure size 640x480 with 1 Axes>"
            ],
            "image/png": "[encoded data removed]"
          },
          "metadata": {}
        }
      ]
    },
    {
      "cell_type": "code",
      "source": [
        "# performing log we need linear model and it is exponential growth so we apply log\n",
        "y=np.log(y)\n",
        "plt.scatter(x,y);# it will print a linear line\n"
      ],
      "metadata": {
        "colab": {
          "base_uri": "https://localhost:8080/",
          "height": 430
        },
        "id": "U25nbMynTTtB",
        "outputId": "cddeff44-e66f-4e9c-a59c-e62b774e7b6d"
      },
      "execution_count": null,
      "outputs": [
        {
          "output_type": "display_data",
          "data": {
            "text/plain": [
              "<Figure size 640x480 with 1 Axes>"
            ],
            "image/png": "[encoded data removed]"
          },
          "metadata": {}
        }
      ]
    },
    {
      "cell_type": "code",
      "source": [
        "x=x-x.mean()"
      ],
      "metadata": {
        "id": "n__jRpQfTwZy"
      },
      "execution_count": null,
      "outputs": []
    },
    {
      "cell_type": "code",
      "source": [
        "plt.scatter(x,y)"
      ],
      "metadata": {
        "colab": {
          "base_uri": "https://localhost:8080/",
          "height": 447
        },
        "id": "IUWYqKyhXr1X",
        "outputId": "42215248-d074-4814-a730-5fe939835ee0"
      },
      "execution_count": null,
      "outputs": [
        {
          "output_type": "execute_result",
          "data": {
            "text/plain": [
              "<matplotlib.collections.PathCollection at 0x79436502af20>"
            ]
          },
          "metadata": {},
          "execution_count": 41
        },
        {
          "output_type": "display_data",
          "data": {
            "text/plain": [
              "<Figure size 640x480 with 1 Axes>"
            ],
            "image/png": "[encoded data removed]"
          },
          "metadata": {}
        }
      ]
    },
    {
      "cell_type": "code",
      "source": [
        "model=tf.keras.models.Sequential([\n",
        "    tf.keras.layers.Input(shape=(1,)), # input shape is 1\n",
        "    tf.keras.layers.Dense(1) # output sahpe\n",
        "])"
      ],
      "metadata": {
        "id": "1JJChwZQXwGm"
      },
      "execution_count": null,
      "outputs": []
    },
    {
      "cell_type": "code",
      "source": [
        "model.compile(\n",
        "    optimizer=tf.keras.optimizers.SGD(0.001,0.9),\n",
        "    loss='mse',\n",
        ")"
      ],
      "metadata": {
        "id": "PGolLJ-2ZHdd"
      },
      "execution_count": 83,
      "outputs": []
    },
    {
      "cell_type": "code",
      "source": [
        "# function for learning rate scheduliing\n",
        "def schedule(epoch , lr):\n",
        "  if epoch>50:\n",
        "    return 0.0001\n",
        "  return 0.001\n",
        "scheduler=tf.keras.callbacks.LearningRateScheduler(schedule)\n"
      ],
      "metadata": {
        "id": "8q7gM9LcZq7n"
      },
      "execution_count": 84,
      "outputs": []
    },
    {
      "cell_type": "code",
      "source": [
        "r=model.fit(x,y,epochs=70,callbacks=[scheduler])"
      ],
      "metadata": {
        "colab": {
          "base_uri": "https://localhost:8080/"
        },
        "id": "PeeQZDmDc2VM",
        "outputId": "90e7dd27-f920-4a7b-e805-975185e16b26"
      },
      "execution_count": 85,
      "outputs": [
        {
          "output_type": "stream",
          "name": "stdout",
          "text": [
            "Epoch 1/70\n",
            "6/6 [==============================] - 0s 4ms/step - loss: 0.0055 - lr: 0.0010\n",
            "Epoch 2/70\n",
            "6/6 [==============================] - 0s 3ms/step - loss: 0.0056 - lr: 0.0010\n",
            "Epoch 3/70\n",
            "6/6 [==============================] - 0s 3ms/step - loss: 0.0061 - lr: 0.0010\n",
            "Epoch 4/70\n",
            "6/6 [==============================] - 0s 3ms/step - loss: 0.0056 - lr: 0.0010\n",
            "Epoch 5/70\n",
            "6/6 [==============================] - 0s 2ms/step - loss: 0.0057 - lr: 0.0010\n",
            "Epoch 6/70\n",
            "6/6 [==============================] - 0s 3ms/step - loss: 0.0055 - lr: 0.0010\n",
            "Epoch 7/70\n",
            "6/6 [==============================] - 0s 3ms/step - loss: 0.0055 - lr: 0.0010\n",
            "Epoch 8/70\n",
            "6/6 [==============================] - 0s 2ms/step - loss: 0.0053 - lr: 0.0010\n",
            "Epoch 9/70\n",
            "6/6 [==============================] - 0s 3ms/step - loss: 0.0065 - lr: 0.0010\n",
            "Epoch 10/70\n",
            "6/6 [==============================] - 0s 3ms/step - loss: 0.0061 - lr: 0.0010\n",
            "Epoch 11/70\n",
            "6/6 [==============================] - 0s 3ms/step - loss: 0.0055 - lr: 0.0010\n",
            "Epoch 12/70\n",
            "6/6 [==============================] - 0s 2ms/step - loss: 0.0055 - lr: 0.0010\n",
            "Epoch 13/70\n",
            "6/6 [==============================] - 0s 3ms/step - loss: 0.0054 - lr: 0.0010\n",
            "Epoch 14/70\n",
            "6/6 [==============================] - 0s 3ms/step - loss: 0.0063 - lr: 0.0010\n",
            "Epoch 15/70\n",
            "6/6 [==============================] - 0s 3ms/step - loss: 0.0067 - lr: 0.0010\n",
            "Epoch 16/70\n",
            "6/6 [==============================] - 0s 3ms/step - loss: 0.0056 - lr: 0.0010\n",
            "Epoch 17/70\n",
            "6/6 [==============================] - 0s 3ms/step - loss: 0.0054 - lr: 0.0010\n",
            "Epoch 18/70\n",
            "6/6 [==============================] - 0s 2ms/step - loss: 0.0053 - lr: 0.0010\n",
            "Epoch 19/70\n",
            "6/6 [==============================] - 0s 2ms/step - loss: 0.0070 - lr: 0.0010\n",
            "Epoch 20/70\n",
            "6/6 [==============================] - 0s 2ms/step - loss: 0.0054 - lr: 0.0010\n",
            "Epoch 21/70\n",
            "6/6 [==============================] - 0s 2ms/step - loss: 0.0063 - lr: 0.0010\n",
            "Epoch 22/70\n",
            "6/6 [==============================] - 0s 3ms/step - loss: 0.0055 - lr: 0.0010\n",
            "Epoch 23/70\n",
            "6/6 [==============================] - 0s 2ms/step - loss: 0.0075 - lr: 0.0010\n",
            "Epoch 24/70\n",
            "6/6 [==============================] - 0s 3ms/step - loss: 0.0078 - lr: 0.0010\n",
            "Epoch 25/70\n",
            "6/6 [==============================] - 0s 3ms/step - loss: 0.0064 - lr: 0.0010\n",
            "Epoch 26/70\n",
            "6/6 [==============================] - 0s 3ms/step - loss: 0.0098 - lr: 0.0010\n",
            "Epoch 27/70\n",
            "6/6 [==============================] - 0s 4ms/step - loss: 0.0088 - lr: 0.0010\n",
            "Epoch 28/70\n",
            "6/6 [==============================] - 0s 3ms/step - loss: 0.0067 - lr: 0.0010\n",
            "Epoch 29/70\n",
            "6/6 [==============================] - 0s 2ms/step - loss: 0.0054 - lr: 0.0010\n",
            "Epoch 30/70\n",
            "6/6 [==============================] - 0s 2ms/step - loss: 0.0056 - lr: 0.0010\n",
            "Epoch 31/70\n",
            "6/6 [==============================] - 0s 3ms/step - loss: 0.0058 - lr: 0.0010\n",
            "Epoch 32/70\n",
            "6/6 [==============================] - 0s 4ms/step - loss: 0.0058 - lr: 0.0010\n",
            "Epoch 33/70\n",
            "6/6 [==============================] - 0s 3ms/step - loss: 0.0054 - lr: 0.0010\n",
            "Epoch 34/70\n",
            "6/6 [==============================] - 0s 3ms/step - loss: 0.0055 - lr: 0.0010\n",
            "Epoch 35/70\n",
            "6/6 [==============================] - 0s 3ms/step - loss: 0.0075 - lr: 0.0010\n",
            "Epoch 36/70\n",
            "6/6 [==============================] - 0s 3ms/step - loss: 0.0063 - lr: 0.0010\n",
            "Epoch 37/70\n",
            "6/6 [==============================] - 0s 3ms/step - loss: 0.0062 - lr: 0.0010\n",
            "Epoch 38/70\n",
            "6/6 [==============================] - 0s 3ms/step - loss: 0.0057 - lr: 0.0010\n",
            "Epoch 39/70\n",
            "6/6 [==============================] - 0s 2ms/step - loss: 0.0058 - lr: 0.0010\n",
            "Epoch 40/70\n",
            "6/6 [==============================] - 0s 3ms/step - loss: 0.0057 - lr: 0.0010\n",
            "Epoch 41/70\n",
            "6/6 [==============================] - 0s 3ms/step - loss: 0.0059 - lr: 0.0010\n",
            "Epoch 42/70\n",
            "6/6 [==============================] - 0s 3ms/step - loss: 0.0066 - lr: 0.0010\n",
            "Epoch 43/70\n",
            "6/6 [==============================] - 0s 3ms/step - loss: 0.0056 - lr: 0.0010\n",
            "Epoch 44/70\n",
            "6/6 [==============================] - 0s 3ms/step - loss: 0.0059 - lr: 0.0010\n",
            "Epoch 45/70\n",
            "6/6 [==============================] - 0s 3ms/step - loss: 0.0056 - lr: 0.0010\n",
            "Epoch 46/70\n",
            "6/6 [==============================] - 0s 5ms/step - loss: 0.0064 - lr: 0.0010\n",
            "Epoch 47/70\n",
            "6/6 [==============================] - 0s 3ms/step - loss: 0.0060 - lr: 0.0010\n",
            "Epoch 48/70\n",
            "6/6 [==============================] - 0s 3ms/step - loss: 0.0056 - lr: 0.0010\n",
            "Epoch 49/70\n",
            "6/6 [==============================] - 0s 3ms/step - loss: 0.0053 - lr: 0.0010\n",
            "Epoch 50/70\n",
            "6/6 [==============================] - 0s 3ms/step - loss: 0.0131 - lr: 0.0010\n",
            "Epoch 51/70\n",
            "6/6 [==============================] - 0s 3ms/step - loss: 0.0149 - lr: 0.0010\n",
            "Epoch 52/70\n",
            "6/6 [==============================] - 0s 3ms/step - loss: 0.0110 - lr: 1.0000e-04\n",
            "Epoch 53/70\n",
            "6/6 [==============================] - 0s 3ms/step - loss: 0.0053 - lr: 1.0000e-04\n",
            "Epoch 54/70\n",
            "6/6 [==============================] - 0s 3ms/step - loss: 0.0082 - lr: 1.0000e-04\n",
            "Epoch 55/70\n",
            "6/6 [==============================] - 0s 3ms/step - loss: 0.0061 - lr: 1.0000e-04\n",
            "Epoch 56/70\n",
            "6/6 [==============================] - 0s 6ms/step - loss: 0.0054 - lr: 1.0000e-04\n",
            "Epoch 57/70\n",
            "6/6 [==============================] - 0s 3ms/step - loss: 0.0055 - lr: 1.0000e-04\n",
            "Epoch 58/70\n",
            "6/6 [==============================] - 0s 3ms/step - loss: 0.0053 - lr: 1.0000e-04\n",
            "Epoch 59/70\n",
            "6/6 [==============================] - 0s 3ms/step - loss: 0.0054 - lr: 1.0000e-04\n",
            "Epoch 60/70\n",
            "6/6 [==============================] - 0s 3ms/step - loss: 0.0056 - lr: 1.0000e-04\n",
            "Epoch 61/70\n",
            "6/6 [==============================] - 0s 3ms/step - loss: 0.0053 - lr: 1.0000e-04\n",
            "Epoch 62/70\n",
            "6/6 [==============================] - 0s 3ms/step - loss: 0.0055 - lr: 1.0000e-04\n",
            "Epoch 63/70\n",
            "6/6 [==============================] - 0s 3ms/step - loss: 0.0054 - lr: 1.0000e-04\n",
            "Epoch 64/70\n",
            "6/6 [==============================] - 0s 3ms/step - loss: 0.0054 - lr: 1.0000e-04\n",
            "Epoch 65/70\n",
            "6/6 [==============================] - 0s 3ms/step - loss: 0.0053 - lr: 1.0000e-04\n",
            "Epoch 66/70\n",
            "6/6 [==============================] - 0s 3ms/step - loss: 0.0053 - lr: 1.0000e-04\n",
            "Epoch 67/70\n",
            "6/6 [==============================] - 0s 5ms/step - loss: 0.0053 - lr: 1.0000e-04\n",
            "Epoch 68/70\n",
            "6/6 [==============================] - 0s 3ms/step - loss: 0.0053 - lr: 1.0000e-04\n",
            "Epoch 69/70\n",
            "6/6 [==============================] - 0s 3ms/step - loss: 0.0052 - lr: 1.0000e-04\n",
            "Epoch 70/70\n",
            "6/6 [==============================] - 0s 2ms/step - loss: 0.0056 - lr: 1.0000e-04\n"
          ]
        }
      ]
    },
    {
      "cell_type": "code",
      "source": [
        "plt.plot(r.history['loss'],label=\"loss\")\n",
        "plt.legend();"
      ],
      "metadata": {
        "colab": {
          "base_uri": "https://localhost:8080/",
          "height": 430
        },
        "id": "VIvsBMMkda7h",
        "outputId": "880c7bb1-5f57-4526-ddb7-f39ea0f761ba"
      },
      "execution_count": 86,
      "outputs": [
        {
          "output_type": "display_data",
          "data": {
            "text/plain": [
              "<Figure size 640x480 with 1 Axes>"
            ],
            "image/png": "[encoded data removed]"
          },
          "metadata": {}
        }
      ]
    },
    {
      "cell_type": "code",
      "source": [
        "# to check the layers\n",
        "model.layers"
      ],
      "metadata": {
        "id": "lgQuh6MGeQge",
        "colab": {
          "base_uri": "https://localhost:8080/"
        },
        "outputId": "f9007618-c04f-4a88-ade4-970e6113b871"
      },
      "execution_count": 87,
      "outputs": [
        {
          "output_type": "execute_result",
          "data": {
            "text/plain": [
              "[<keras.src.layers.core.dense.Dense at 0x794361421960>]"
            ]
          },
          "metadata": {},
          "execution_count": 87
        }
      ]
    },
    {
      "cell_type": "code",
      "source": [
        "model.layers[0].get_weights()"
      ],
      "metadata": {
        "id": "L6BrJoBjwBnj",
        "colab": {
          "base_uri": "https://localhost:8080/"
        },
        "outputId": "d736f512-e651-4eb9-be46-363f212a29ca"
      },
      "execution_count": 88,
      "outputs": [
        {
          "output_type": "execute_result",
          "data": {
            "text/plain": [
              "[array([[0.02420106]], dtype=float32), array([2.829876], dtype=float32)]"
            ]
          },
          "metadata": {},
          "execution_count": 88
        }
      ]
    },
    {
      "cell_type": "code",
      "source": [
        "a=model.layers[0].get_weights()[0][0,0]"
      ],
      "metadata": {
        "id": "FkBT64aYzid1"
      },
      "execution_count": 89,
      "outputs": []
    },
    {
      "cell_type": "code",
      "source": [
        "a"
      ],
      "metadata": {
        "colab": {
          "base_uri": "https://localhost:8080/"
        },
        "id": "x69qo5Fn02ZI",
        "outputId": "db5afb67-20ff-4659-cf3e-7c0a89ff446c"
      },
      "execution_count": 90,
      "outputs": [
        {
          "output_type": "execute_result",
          "data": {
            "text/plain": [
              "0.02420106"
            ]
          },
          "metadata": {},
          "execution_count": 90
        }
      ]
    },
    {
      "cell_type": "code",
      "source": [
        "print(\"Time to double:\" ,np.log(2)/a)"
      ],
      "metadata": {
        "colab": {
          "base_uri": "https://localhost:8080/"
        },
        "id": "rdONiMfl03Yi",
        "outputId": "6175ad20-f3a5-468f-8ce5-81dbdf873b4f"
      },
      "execution_count": 91,
      "outputs": [
        {
          "output_type": "stream",
          "name": "stdout",
          "text": [
            "Time to double: 28.64119128469912\n"
          ]
        }
      ]
    },
    {
      "cell_type": "code",
      "source": [],
      "metadata": {
        "id": "Z8FIzC9D8LOl"
      },
      "execution_count": null,
      "outputs": []
    }
  ]
}